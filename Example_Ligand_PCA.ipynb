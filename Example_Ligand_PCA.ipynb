{
 "cells": [
  {
   "cell_type": "code",
   "execution_count": 1,
   "id": "80bd65cc",
   "metadata": {},
   "outputs": [],
   "source": [
    "import numpy as np\n",
    "import pandas as pd\n",
    "from rdkit import Chem\n",
    "from rdkit.Chem import Draw\n",
    "from rdkit.Chem.Draw import IPythonConsole\n",
    "from rdkit import DataStructs\n",
    "from rdkit.Chem import rdMolDescriptors\n",
    "import numpy as np\n",
    "from rdkit.Chem import rdChemReactions\n",
    "from rdkit.Chem import AllChem\n",
    "import mols2grid\n",
    "import matplotlib.pyplot as plt\n",
    "from matplotlib.pyplot import figure\n",
    "from sklearn.decomposition import PCA\n",
    "from sklearn.preprocessing import OneHotEncoder\n",
    "from sklearn.preprocessing import StandardScaler\n",
    "from adjustText import adjust_text"
   ]
  },
  {
   "cell_type": "code",
   "execution_count": 2,
   "id": "75f7b58d",
   "metadata": {},
   "outputs": [],
   "source": [
    "def get_ligand(df):\n",
    "    '''\n",
    "    From a ligand's SMILES, generate their RDKit molecule. Note that\n",
    "    some ligands are NOT SMILES strings but short hand notation\n",
    "    and must be manually converted to SMILES. Others are the SMILES\n",
    "    strings with their metal center, which has to be also manually\n",
    "    stripped out.\n",
    "    '''\n",
    "    ligands_1 = df['catalyst_1_ID_1_SMILES'].unique().tolist()\n",
    "    ligands_2 = df['catalyst_2_ID_1_SMILES'].unique().tolist()\n",
    "    ligands = np.unique(ligands_1 + ligands_2)\n",
    "    \n",
    "    ligand_mols = []\n",
    "    ligand_smiles = []\n",
    "    \n",
    "    for i in ligands:\n",
    "        if pd.isna(i) == True or i == 'nan':\n",
    "            pass\n",
    "        else:\n",
    "            if i == '(DTBNpP)Pd(allyl)Cl':\n",
    "                i = 'CC(C)(C)CP(C(C)(C)C)C(C)(C)C'\n",
    "            elif i == '(IPr)Pd(Allyl)Cl':\n",
    "                i = 'CC(C)c1cccc(C(C)C)c1N2[C]N(C=C2)c3c(cccc3C(C)C)C(C)C'\n",
    "            elif i == '(QPhos)Pd(crotyl)Cl':\n",
    "                i = '[Fe].CC(C)(C)P([C]1[CH][CH][CH][CH]1)C(C)(C)C.c2ccc(cc2)[C]3[C]([C]([C]([C]3c4ccccc4)c5ccccc5)c6ccccc6)c7ccccc7'\n",
    "            elif i == 'P(C1CCCCC1)(C1CCCCC1)/C(=C(/c1ccccc1)c1ccccc1)C':\n",
    "                i = 'C/C(P(C1CCCCC1)C2CCCCC2)=C(c3ccccc3)\\c4ccccc4'\n",
    "            elif i == '2G XPhos':\n",
    "                i = 'CC(C)C1=CC(C(C)C)=CC(C(C)C)=C1C2=C(P(C3CCCCC3)C4CCCCC4)C=CC=C2'\n",
    "            elif i == '3G OMs RockPhos':\n",
    "                i = 'CC1=C(C2=C(C(C)C)C=C(C(C)C)C=C2C(C)C)C(P(C(C)(C)C)C(C)(C)C)=C(OC)C=C1'\n",
    "            elif i == '3G OMs RuPhos' or i == 'RuPhos' or i == 'RuPhos Palladacycle' or i == 'RuPhos Pd G4' or i == 'WS RuPhos':\n",
    "                i = 'CC(C)Oc1cccc(c1c2ccccc2P(C3CCCCC3)C4CCCCC4)OC(C)C'\n",
    "            elif i == '3G OMs XanthPhos' or i == 'Xantphos Pd G4':\n",
    "                i = 'O6c1c(cccc1P(c2ccccc2)c3ccccc3)C(c7cccc(P(c4ccccc4)c5ccccc5)c67)(C)C'\n",
    "            elif i == '3G OMs tBuBrettPhos':\n",
    "                i = 'COc1ccc(OC)c(c1P(C(C)(C)C)C(C)(C)C)-c2c(cc(cc2C(C)C)C(C)C)C(C)C'\n",
    "            elif i == 'BrettPhos Palladacycle':\n",
    "                i = 'COc1ccc(OC)c(c1P(C(C)(C)C)C(C)(C)C)c2c(cc(cc2C(C)C)C(C)C)C(C)C'\n",
    "            elif i == 'Pd-PEPPS-IPent':\n",
    "                i = 'CCC(c1c(N2C=CN(C2)c3c(C(CC)CC)cccc3CCC)c(C(CC)CC)ccc1)CC'\n",
    "            elif i == 'C(COC)OC.[Ni](Cl)Cl':\n",
    "                i = 'C(COC)OC'\n",
    "            elif i == 'C(O[Pd]OC(C)=O)(C)=O':\n",
    "                i = 'OC(C)=O'\n",
    "            elif i == 'C1(C)(C)c2c(c(P(c3ccccc3)c3ccccc3)ccc2)Oc2c1cccc2P(c1ccccc1)c1ccccc1.c1ccc(c(c1)[Pd+])c1ccccc1NC.[O-]S(C)(=O)=O':\n",
    "                i = 'CC1(c2cccc(P(c3ccccc3)c4ccccc4)c2Oc5c(P(c6ccccc6)c7ccccc7)cccc51)C'\n",
    "            elif i == 'Cl[Ni]Cl.C1(P(C2CCCCC2)C2CCCCC2)CCCCC1.C1(P(C2CCCCC2)C2CCCCC2)CCCCC1':\n",
    "                i = 'C1(P(C2CCCCC2)C2CCCCC2)CCCCC1'\n",
    "            elif i == 'P(C1CCCC1)(C(C)(C)C)C(C)(C)C.P(C1CCCC1)(C(C)(C)C)C(C)(C)C.[Pd](Cl)Cl.[Fe]':\n",
    "                i = 'P(C1CCCC1)(C(C)(C)C)C(C)(C)C.P(C1CCCC1)(C(C)(C)C)C(C)(C)C.[Fe]'\n",
    "            elif i == 'SPhos Palladacycle' or i == 'WS Sphos':\n",
    "                i = 'COc1cccc(OC)c1-c2ccccc2P(C3CCCCC3)C4CCCCC4'\n",
    "            elif i == '[Ni](Br)Br.P(c1ccccc1)(c1ccccc1)c1ccccc1.P(c1ccccc1)(c1ccccc1)c1ccccc1':\n",
    "                i = 'P(c1ccccc1)(c1ccccc1)c1ccccc1'\n",
    "            elif i == '[Pd].C(P(C(C)(C)C)C(C)(C)C)(C)(C)C.C(P(C(C)(C)C)C(C)(C)C)(C)(C)C':\n",
    "                i = 'C(P(C(C)(C)C)C(C)(C)C)(C)(C)C'\n",
    "            elif i == 'c1(c(c(ccc1OC)OC)P(C1CCCCC1)C1CCCCC1)c1c(cc(cc1C(C)C)C(C)C)C(C)C.c1(ccccc1c1ccccc1N)[Pd+].[O-]S(C)(=O)=O':\n",
    "                i = 'COc1c(c2c(C(C)C)cc(C(C)C)cc2C(C)C)c(P(C3CCCCC3)C4CCCCC4)c(OC)cc1'\n",
    "            elif i == 'c12c([Pd-](N(CC1)C)[P+](c1c(c3c(cc(cc3C(C)C)C(C)C)C(C)C)cccc1)(C1CCCCC1)C1CCCCC1)cccc2':\n",
    "                i = 'CC(C)c1c(c2ccccc2)c(C(C)C)cc(C(C)C)c1'\n",
    "            elif i == 'c1c(c(ccc1)[Pd+])c1ccccc1N.[O-]S(C)(=O)=O.c1c(c(c(cc1C(C)C)C(C)C)c1c(ccc(c1P(C(C)(C)C)C(C)(C)C)OC)OC)C(C)C':\n",
    "                i = 'CC(C)c1cc(C(C)C)c(c2c(P(C(C)(C)C)C(C)(C)C)c(OC)ccc2OC)c(C(C)C)c1'\n",
    "            elif i == 'c1c(cc(c(c1C(C)C)c1c(P(C2CCCCC2)C2CCCCC2)cccc1)C(C)C)C(C)C.c1cc(c(cc1)CCN)[Pd]Cl.CC(OC)(C)C':\n",
    "                i = 'CC(C)c1cc(C(C)C)cc(C(C)C)c1c2ccccc2P(C3CCCCC3)C4CCCCC4'\n",
    "            elif i == 'c1ccc(c(c1)c1c(cccc1)N)[Pd]Cl.c1(ccccc1c1c(cccc1OC(C)C)OC(C)C)P(C1CCCCC1)C1CCCCC1':\n",
    "                i = 'CC(C)Oc1c(c2c(P(C3CCCCC3)C4CCCCC4)cccc2)c(OC(C)C)ccc1'\n",
    "            elif i == 'c1ccc2c(c1)c(ccc2)[Ni](P(c1ccccc1)(c1ccccc1)c1ccccc1)(P(c1ccccc1)(c1ccccc1)c1ccccc1)Cl':\n",
    "                i == 'P(c1ccccc1)(c2ccccc2)c3ccccc3'\n",
    "            elif i == 'c1cccc(c1CCN)[Pd]Cl.C(C)(C)(P(C(C)(C)C)c1ccccc1c1c(cc(cc1C(C)C)C(C)C)C(C)C)C':\n",
    "                i = 'CC(P(c1c(c2c(C(C)C)cc(C(C)C)cc2C(C)C)cccc1)C(C)(C)C)(C)C'\n",
    "\n",
    "            ligand_mols.append(Chem.MolFromSmiles(i))\n",
    "            ligand_smiles.append(i)\n",
    "\n",
    "    return ligand_smiles, ligand_mols\n",
    "\n",
    "def canon_smiles(smiles):\n",
    "    '''\n",
    "    Generating the canonical SMILES.\n",
    "    '''\n",
    "    smiles = Chem.MolToSmiles(Chem.MolFromSmiles(smiles))\n",
    "    return smiles\n",
    "\n",
    "def find_label(df, smiles_list, label):\n",
    "    '''\n",
    "    Labeling a set of SMILES strings in the dataframe for easy\n",
    "    PCA color coding.\n",
    "    '''\n",
    "    smiles_list = [canon_smiles(x) for x in smiles_list]\n",
    "    for x in smiles_list:\n",
    "        df.loc[df['ligand_canon_smiles'] == x, ['label']] = label\n",
    "    return df\n",
    "\n",
    "def one_hot_array_to_df(one_hot_array, one_hot_col_names):\n",
    "    '''\n",
    "    Turning the fingerprints array into a dataframe for\n",
    "    concatenation into the PCA dataframe for easier access\n",
    "    to information.\n",
    "    '''\n",
    "    one_hot_col_df = pd.DataFrame()\n",
    "    \n",
    "    for i in range(one_hot_array.shape[1]):\n",
    "        col_name = one_hot_col_names[i]\n",
    "        col = one_hot_array[:,i]\n",
    "        one_hot_col_df[col_name] = col\n",
    "    return one_hot_col_df"
   ]
  },
  {
   "cell_type": "code",
   "execution_count": 3,
   "id": "25a4b6ad",
   "metadata": {},
   "outputs": [],
   "source": [
    "# Example with buchwald dataset.\n",
    "buchwald = pd.read_csv('data/cleaned_datasets/buchwald.csv', index_col=0)"
   ]
  },
  {
   "cell_type": "code",
   "execution_count": 4,
   "id": "0d1ed49c",
   "metadata": {},
   "outputs": [],
   "source": [
    "smiles, mols = get_ligand(buchwald)\n",
    "# Somehow, SK-CC02-A disappeared, but it's definitely in there so manually adding it back in.\n",
    "smiles.append('CCCCP([C@]12C[C@H]3C[C@H](C[C@H](C3)C1)C2)[C@@]45C[C@@H]6C[C@@H](C[C@@H](C6)C4)C5')\n",
    "mols.append(Chem.MolFromSmiles('CCCCP([C@]12C[C@H]3C[C@H](C[C@H](C3)C1)C2)[C@@]45C[C@@H]6C[C@@H](C[C@@H](C6)C4)C5'))\n",
    "s = [canon_smiles(x) for x in smiles]"
   ]
  },
  {
   "cell_type": "code",
   "execution_count": 5,
   "id": "b6eed0fa",
   "metadata": {},
   "outputs": [],
   "source": [
    "buchwald_pca_df = pd.DataFrame()\n",
    "buchwald_pca_df['ligand_canon_smiles'] = s\n",
    "buchwald_pca_df['mol'] = mols\n",
    "\n",
    "fps = [rdMolDescriptors.GetMorganFingerprintAsBitVect(mol, 2, 2048) for mol in buchwald_pca_df['mol']]\n",
    "buchwald_pca_df['fps'] = fps\n",
    "buchwald_pca_df['label'] = 'ligand'"
   ]
  },
  {
   "cell_type": "code",
   "execution_count": 6,
   "id": "24f6acde",
   "metadata": {},
   "outputs": [],
   "source": [
    "# best in class ligands: RuPhos, BrettPhos, tBuXPhos, tBuBrettPhos, \n",
    "best = ['CC(C)Oc1cccc(c1c2ccccc2P(C3CCCCC3)C4CCCCC4)OC(C)C', 'COc1ccc(OC)c(c1P(C(C)(C)C)C(C)(C)C)c2c(cc(cc2C(C)C)C(C)C)C(C)C',\n",
    "       'CC(C1=CC(C(C)C)=C(C2=CC=CC=C2P(C(C)(C)C)C(C)(C)C)C(C(C)C)=C1)C', 'COc1ccc(OC)c(c1P(C(C)(C)C)C(C)(C)C)-c2c(cc(cc2C(C)C)C(C)C)C(C)C']\n",
    "best = [canon_smiles(x) for x in best]\n",
    "# worst in class ligands: PtBu3, cataCXium A, SK-CC02-A, Me4tBuXPhos, AcOH, PPh3\n",
    "worst = ['CC(C)(C)P(C(C)(C)C)C(C)(C)C', 'CCCCP([C@]12C[C@H]3C[C@H](C[C@H](C3)C1)C2)[C@@]45C[C@@H]6C[C@@H](C[C@@H](C6)C4)C5',\n",
    "        'C1(C(CCC1)[Pd]Cl)CN(C)C.P(C1[C@H]2C[C@@H](C1)CC2)C1[C@@H]2C[C@H](C1)CC2.C1CCCC1.[Fe]',\n",
    "        'CC(C)c1cc(C(C)C)c(c(c1)C(C)C)-c2c(C)c(C)c(C)c(C)c2P(C(C)(C)C)C(C)(C)C', 'OC(C)=O',\n",
    "        'P(c1ccccc1)(c2ccccc2)c3ccccc3']\n",
    "worst = [canon_smiles(x) for x in worst]\n",
    "# ligand in best AND worst in class depending on other factors (i.e. Generation etc.): Xantphos\n",
    "both = ['O6c1c(cccc1P(c2ccccc2)c3ccccc3)C(c7cccc(P(c4ccccc4)c5ccccc5)c67)(C)C']\n",
    "both = [canon_smiles(x) for x in both]"
   ]
  },
  {
   "cell_type": "code",
   "execution_count": 7,
   "id": "34636039",
   "metadata": {},
   "outputs": [],
   "source": [
    "buchwald_pca_df = find_label(buchwald_pca_df, best, 'best in class ligand')\n",
    "buchwald_pca_df = find_label(buchwald_pca_df, worst, 'worst in class ligand')\n",
    "buchwald_pca_df = find_label(buchwald_pca_df, both, 'both best AND worst in class ligand')"
   ]
  },
  {
   "cell_type": "code",
   "execution_count": 8,
   "id": "4c25c65d",
   "metadata": {},
   "outputs": [],
   "source": [
    "pca = PCA(n_components=2)\n",
    "inputs = StandardScaler().fit_transform(buchwald_pca_df['fps'].tolist())\n",
    "\n",
    "principal_components = pca.fit_transform(inputs)"
   ]
  },
  {
   "cell_type": "code",
   "execution_count": 9,
   "id": "694812c9",
   "metadata": {},
   "outputs": [],
   "source": [
    "buchwald_pca_df['pc_1'] = principal_components[:,0]\n",
    "buchwald_pca_df['pc_2'] = principal_components[:,1]"
   ]
  },
  {
   "cell_type": "code",
   "execution_count": 10,
   "id": "c8367ca0",
   "metadata": {},
   "outputs": [
    {
     "data": {
      "image/png": "[encoded data removed]",
      "text/plain": [
       "<Figure size 576x576 with 1 Axes>"
      ]
     },
     "metadata": {
      "needs_background": "light"
     },
     "output_type": "display_data"
    }
   ],
   "source": [
    "### Plotting ###\n",
    "colors = ['gray', 'blue', 'purple', 'red']\n",
    "figure(figsize=(8,8))\n",
    "for target,color in zip(buchwald_pca_df['label'].unique(), colors):\n",
    "    idxs = buchwald_pca_df.loc[buchwald_pca_df['label'] == target].index\n",
    "    plt.scatter(buchwald_pca_df.loc[idxs, 'pc_1'], buchwald_pca_df.loc[idxs, 'pc_2'], c=color, s=8)\n",
    "\n",
    "plt.title('Visualization of the Buchwald Ligand Space')\n",
    "plt.xlabel('Principal Component 1')\n",
    "plt.ylabel('Principal Component 2')\n",
    "plt.legend(buchwald_pca_df['label'].unique())\n",
    "texts = []\n",
    "texts.append(plt.text(np.unique(buchwald_pca_df.loc[buchwald_pca_df['ligand_canon_smiles'] == best[0], ['pc_1']])[0], np.unique(buchwald_pca_df.loc[buchwald_pca_df['ligand_canon_smiles'] == best[0], ['pc_2']])[0], 'RuPhos', c='blue'))\n",
    "texts.append(plt.text(np.unique(buchwald_pca_df.loc[buchwald_pca_df['ligand_canon_smiles'] == best[1], ['pc_1']])[0], np.unique(buchwald_pca_df.loc[buchwald_pca_df['ligand_canon_smiles'] == best[1], ['pc_2']])[0], 'BrettPhos', c='blue'))\n",
    "texts.append(plt.text(np.unique(buchwald_pca_df.loc[buchwald_pca_df['ligand_canon_smiles'] == best[2], ['pc_1']])[0], np.unique(buchwald_pca_df.loc[buchwald_pca_df['ligand_canon_smiles'] == best[2], ['pc_2']])[0], 'tBuXPhos', c='blue'))\n",
    "texts.append(plt.text(np.unique(buchwald_pca_df.loc[buchwald_pca_df['ligand_canon_smiles'] == best[3], ['pc_1']])[0], np.unique(buchwald_pca_df.loc[buchwald_pca_df['ligand_canon_smiles'] == best[3], ['pc_2']])[0], 'tBuBrettPhos', c='blue'))\n",
    "\n",
    "texts.append(plt.text(np.unique(buchwald_pca_df.loc[buchwald_pca_df['ligand_canon_smiles'] == worst[0], ['pc_1']])[0], np.unique(buchwald_pca_df.loc[buchwald_pca_df['ligand_canon_smiles'] == worst[0], ['pc_2']])[0], 'P(tBu)3', c='red'))\n",
    "texts.append(plt.text(np.unique(buchwald_pca_df.loc[buchwald_pca_df['ligand_canon_smiles'] == worst[1], ['pc_1']])[0], np.unique(buchwald_pca_df.loc[buchwald_pca_df['ligand_canon_smiles'] == worst[1], ['pc_2']])[0], 'cataCXium A', c='red'))\n",
    "texts.append(plt.text(np.unique(buchwald_pca_df.loc[buchwald_pca_df['ligand_canon_smiles'] == worst[2], ['pc_1']])[0], np.unique(buchwald_pca_df.loc[buchwald_pca_df['ligand_canon_smiles'] == worst[2], ['pc_2']])[0], 'SK-CC02-A', c='red'))\n",
    "texts.append(plt.text(np.unique(buchwald_pca_df.loc[buchwald_pca_df['ligand_canon_smiles'] == worst[3], ['pc_1']])[0], np.unique(buchwald_pca_df.loc[buchwald_pca_df['ligand_canon_smiles'] == worst[3], ['pc_2']])[0], 'Me4tBuXPhos', c='red'))\n",
    "texts.append(plt.text(np.unique(buchwald_pca_df.loc[buchwald_pca_df['ligand_canon_smiles'] == worst[4], ['pc_1']])[0], np.unique(buchwald_pca_df.loc[buchwald_pca_df['ligand_canon_smiles'] == worst[4], ['pc_2']])[0], 'No Ligand', c='red'))\n",
    "texts.append(plt.text(np.unique(buchwald_pca_df.loc[buchwald_pca_df['ligand_canon_smiles'] == worst[5], ['pc_1']])[0], np.unique(buchwald_pca_df.loc[buchwald_pca_df['ligand_canon_smiles'] == worst[5], ['pc_2']])[0], 'PPh3', c='red'))\n",
    "\n",
    "texts.append(plt.text(np.unique(buchwald_pca_df.loc[buchwald_pca_df['ligand_canon_smiles'] == both[0], ['pc_1']])[0], np.unique(buchwald_pca_df.loc[buchwald_pca_df['ligand_canon_smiles'] == both[0], ['pc_2']])[0], 'Xantphos', c='purple'))\n",
    "\n",
    "adjust_text(texts, only_move={'points':'y', 'texts':'y'}, arrowprops=dict(arrowstyle=\"->\", color='black', lw=0.5))\n",
    "plt.show()"
   ]
  },
  {
   "cell_type": "code",
   "execution_count": null,
   "id": "726125f2",
   "metadata": {},
   "outputs": [],
   "source": []
  }
 ],
 "metadata": {
  "hide_input": false,
  "kernelspec": {
   "display_name": "KernelName2",
   "language": "python",
   "name": "venv3.7"
  },
  "language_info": {
   "codemirror_mode": {
    "name": "ipython",
    "version": 3
   },
   "file_extension": ".py",
   "mimetype": "text/x-python",
   "name": "python",
   "nbconvert_exporter": "python",
   "pygments_lexer": "ipython3",
   "version": "3.7.11"
  }
 },
 "nbformat": 4,
 "nbformat_minor": 5
}
