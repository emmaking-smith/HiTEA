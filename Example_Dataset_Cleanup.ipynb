{
 "cells": [
  {
   "cell_type": "code",
   "execution_count": null,
   "id": "086a2fc6",
   "metadata": {},
   "outputs": [],
   "source": [
    "from rdkit import Chem\n",
    "import numpy as np\n",
    "import pandas as pd\n",
    "from rdkit.Chem.Draw import rdMolDraw2D\n",
    "from rdkit.Chem import Draw\n",
    "from rdkit.Chem.Draw import IPythonConsole\n",
    "from rdkit.Chem import rdDepictor\n",
    "rdDepictor.SetPreferCoordGen(True)\n",
    "from rdkit.Chem.Draw import IPythonConsole\n",
    "from IPython.display import SVG\n",
    "from IPython.display import set_matplotlib_formats\n",
    "from collections import Counter\n",
    "import matplotlib.pyplot as plt\n",
    "import torch\n",
    "import mols2grid\n",
    "import re\n",
    "from sklearn.ensemble import RandomForestRegressor\n",
    "from sklearn.model_selection import train_test_split\n",
    "from sklearn.metrics import mean_squared_error\n",
    "from collections import Counter"
   ]
  },
  {
   "cell_type": "code",
   "execution_count": null,
   "id": "e3acd4fc",
   "metadata": {},
   "outputs": [],
   "source": [
    "# Load the full dataset.\n",
    "full_data_path = '/gpfs/workspace/users/yangq34/Rokas/HTEExternal_toDisclose_results4_CleanedRoger_122021_IDmapped.txt'\n",
    "d = pd.read_csv(full_data_path, low_memory=False, sep='\\t')"
   ]
  },
  {
   "cell_type": "code",
   "execution_count": null,
   "id": "c30f9db3",
   "metadata": {},
   "outputs": [],
   "source": [
    "b = d[d['KeyWord_STD'] == 'BUCHWALD']\n",
    "b = b.reset_index(drop=True)\n",
    "\n",
    "# Removing the reactions with no reactant_2 and those with two different aryl halides.\n",
    "b = b.loc[(pd.isna(b['reactant_2_SMILES']) == False) & (pd.isna(b['reactant_3_SMILES']) == True)]\n",
    "b = b.reset_index(drop=True)"
   ]
  },
  {
   "cell_type": "code",
   "execution_count": null,
   "id": "8f3c09bd",
   "metadata": {},
   "outputs": [],
   "source": [
    "# Canonicalizing the Buchwald reactants\n",
    "reactant_1_canon = []\n",
    "reactant_2_canon = []\n",
    "for i in range(len(b)):\n",
    "    s1 = b.loc[i, 'Reactant_1_SMILES']\n",
    "    s2 = b.loc[i, 'reactant_2_SMILES']\n",
    "    canon_1_s = Chem.MolToSmiles(Chem.MolFromSmiles(s1))\n",
    "    reactant_1_canon.append(canon_1_s)\n",
    "    canon_2_s = Chem.MolToSmiles(Chem.MolFromSmiles(s2))\n",
    "    reactant_2_canon.append(canon_2_s)\n",
    "b['react_1_canon'] = reactant_1_canon\n",
    "b['react_2_canon'] = reactant_2_canon "
   ]
  },
  {
   "cell_type": "code",
   "execution_count": null,
   "id": "77ea24b9",
   "metadata": {},
   "outputs": [],
   "source": [
    "# Separating the halides and nucleophiles.\n",
    "\n",
    "halide = []\n",
    "amine = []\n",
    "for i in range(len(b)):\n",
    "    r1 = Chem.MolFromSmiles(b.loc[i, 'react_1_canon'])\n",
    "    chloro = Chem.MolFromSmarts('[Cl]')\n",
    "    bromo = Chem.MolFromSmarts('[Br]')\n",
    "    iodo = Chem.MolFromSmarts('[I]')\n",
    "    if r1.GetSubstructMatches(chloro):\n",
    "        halide.append(b.loc[i, 'react_1_canon'])\n",
    "        amine.append(b.loc[i, 'react_2_canon'])\n",
    "    elif r1.GetSubstructMatches(bromo):\n",
    "        halide.append(b.loc[i, 'react_1_canon'])\n",
    "        amine.append(b.loc[i, 'react_2_canon'])\n",
    "    elif r1.GetSubstructMatches(iodo):\n",
    "        halide.append(b.loc[i, 'react_1_canon'])\n",
    "        amine.append(b.loc[i, 'react_2_canon'])\n",
    "    else:\n",
    "        halide.append(b.loc[i, 'react_2_canon'])\n",
    "        amine.append(b.loc[i, 'react_1_canon'])\n",
    "\n",
    "b['halide'] = halide\n",
    "b['nuc'] = amine"
   ]
  },
  {
   "cell_type": "code",
   "execution_count": null,
   "id": "d7734b4b",
   "metadata": {},
   "outputs": [],
   "source": [
    "# Separating metal source (including pre-complexed palladium) from ligand.\n",
    "\n",
    "b['Catalyst_1_Short_Hand'].unique() # nan, Pd(OAc)2, NiCl2.DME, CuI\n",
    "\n",
    "# Remove copper.\n",
    "b = b.loc[b['Catalyst_1_Short_Hand'] != 'CuI'] # Incorrectly labeled as Buchwalds. Move to Ullmann dataset.\n",
    "\n",
    "nocat = b.loc[(pd.isna(b['catalyst_1_ID_1_SMILES']) == True) & \n",
    "              (pd.isna(b['catalyst_1_ID_2_SMILES']) == True) & \n",
    "              (pd.isna(b['catalyst_2_ID_1_SMILES']) == True) & \n",
    "              (pd.isna(b['catalyst_2_ID_2_SMILES']) == True) & \n",
    "            (pd.isna(b['Catalyst_2_Short_Hand']) == False)]\n",
    "\n",
    "# Check with Pfizer that these reactions indeed are baseline reactions. UPDATE: YES!\n",
    "\n",
    "hascat = b.loc[(pd.isna(b['catalyst_1_ID_1_SMILES']) == False) | (pd.isna(b['catalyst_1_ID_2_SMILES']) == False) | (pd.isna(b['catalyst_2_ID_1_SMILES']) == False) | (pd.isna(b['catalyst_2_ID_2_SMILES']) == False)]\n",
    "hascat = pd.concat((hascat,nocat))\n",
    "hascat = hascat.reset_index(drop=True)"
   ]
  },
  {
   "cell_type": "code",
   "execution_count": null,
   "id": "db85a0a4",
   "metadata": {},
   "outputs": [],
   "source": [
    "# Checking cat_1_id_1 = cat_2_id_1 for all catalysts\n",
    "for i in range(len(hascat)):\n",
    "    cat_1_id_2 = hascat.loc[i, 'catalyst_1_ID_2_SMILES']\n",
    "    cat_2_id_1 = hascat.loc[i, 'catalyst_2_ID_1_SMILES']\n",
    "    if pd.isna(cat_1_id_2) == False:\n",
    "        if cat_1_id_2 != cat_2_id_1:\n",
    "            print('no', cat_1_id_2, cat_2_id_1)"
   ]
  },
  {
   "cell_type": "code",
   "execution_count": null,
   "id": "bd2856b3",
   "metadata": {},
   "outputs": [],
   "source": [
    "# Some Cleanup.\n",
    "hascat.loc[(hascat['catalyst_2_ID_1_SMILES'] == 'c1(c2c(P(c3ccccc3)c3ccccc3)ccc3c2cccc3)c(P(c2ccccc2)c2ccccc2)ccc2c1cccc2') & (pd.isna(hascat['catalyst_1_ID_1_SMILES']) == True), ['catalyst_1_ID_1_SMILES']] = 'C(O[Pd]OC(C)=O)(C)=O' \n",
    "hascat.loc[(pd.isna(hascat['catalyst_1_ID_1_SMILES']) == True) &\n",
    "           (hascat['catalyst_2_ID_1_SMILES'] == 'C(O[Pd]OC(C)=O)(C)=O'), \n",
    "           ['catalyst_1_ID_1_SMILES', 'catalyst_2_ID_1_SMILES']] = ['C(O[Pd]OC(C)=O)(C)=O', np.nan]\n",
    "hascat.loc[(pd.isna(hascat['catalyst_1_ID_1_SMILES']) == False) & \n",
    "           (hascat['catalyst_2_ID_1_SMILES'] == 'C(O[Pd]OC(C)=O)(C)=O'), \n",
    "           ['catalyst_1_ID_1_SMILES', 'catalyst_2_ID_1_SMILES']] = ['C(O[Pd]OC(C)=O)(C)=O', np.nan]"
   ]
  },
  {
   "cell_type": "code",
   "execution_count": null,
   "id": "0726ac8e",
   "metadata": {},
   "outputs": [],
   "source": [
    "# Finally separating out the two.\n",
    "catalyst = []\n",
    "ligand = []\n",
    "for i in range(len(hascat)):\n",
    "    \n",
    "    cat_1 = hascat.loc[i, 'catalyst_1_ID_1_SMILES']\n",
    "    cat_2 = hascat.loc[i, 'catalyst_2_ID_1_SMILES']\n",
    "\n",
    "    if pd.isna(cat_1) == False:\n",
    "        catalyst.append(cat_1)\n",
    "        if pd.isna(cat_2) == False:\n",
    "            ligand.append(cat_2)\n",
    "        else:\n",
    "            ligand.append(np.nan)\n",
    "    elif cat_2 == 'c1(c2c(cc(cc2C(C)C)C(C)C)C(C)C)c(c(c(c(c1C)C)C)C)P(C(C)(C)C)C(C)(C)C':\n",
    "            catalyst.append(np.nan)\n",
    "            ligand.append(cat_2)\n",
    "    else:\n",
    "        catalyst.append(cat_2)\n",
    "        ligand.append(np.nan)\n",
    "\n",
    "\n",
    "hascat['catalyst'] = catalyst\n",
    "hascat['ligand'] = ligand"
   ]
  },
  {
   "cell_type": "code",
   "execution_count": null,
   "id": "32ba0806",
   "metadata": {},
   "outputs": [],
   "source": [
    "# Save out dataset as needed."
   ]
  }
 ],
 "metadata": {
  "hide_input": false,
  "kernelspec": {
   "display_name": "KernelName2",
   "language": "python",
   "name": "venv3.7"
  },
  "language_info": {
   "codemirror_mode": {
    "name": "ipython",
    "version": 3
   },
   "file_extension": ".py",
   "mimetype": "text/x-python",
   "name": "python",
   "nbconvert_exporter": "python",
   "pygments_lexer": "ipython3",
   "version": "3.7.11"
  }
 },
 "nbformat": 4,
 "nbformat_minor": 5
}
